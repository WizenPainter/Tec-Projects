{
 "cells": [
  {
   "cell_type": "markdown",
   "metadata": {},
   "source": [
    "# Reto"
   ]
  },
  {
   "cell_type": "markdown",
   "metadata": {},
   "source": [
    "## Importacion de datos"
   ]
  },
  {
   "cell_type": "code",
   "execution_count": 34,
   "metadata": {},
   "outputs": [],
   "source": [
    "import pandas as pd\n",
    "import numpy as np\n",
    "from random import seed\n",
    "from random import random\n",
    "import matplotlib.pyplot as plt\n",
    "from itertools import product"
   ]
  },
  {
   "cell_type": "code",
   "execution_count": 7,
   "metadata": {},
   "outputs": [
    {
     "data": {
      "text/html": [
       "<div>\n",
       "<style scoped>\n",
       "    .dataframe tbody tr th:only-of-type {\n",
       "        vertical-align: middle;\n",
       "    }\n",
       "\n",
       "    .dataframe tbody tr th {\n",
       "        vertical-align: top;\n",
       "    }\n",
       "\n",
       "    .dataframe thead th {\n",
       "        text-align: right;\n",
       "    }\n",
       "</style>\n",
       "<table border=\"1\" class=\"dataframe\">\n",
       "  <thead>\n",
       "    <tr style=\"text-align: right;\">\n",
       "      <th></th>\n",
       "      <th>Fecha del Siniestro</th>\n",
       "      <th>Tipo de auto</th>\n",
       "      <th>Modelo</th>\n",
       "      <th>Monto del siniestro</th>\n",
       "      <th>Aplica cobertura</th>\n",
       "      <th>Deducible</th>\n",
       "      <th>Reclamo de Cobertura</th>\n",
       "      <th>Perdida total</th>\n",
       "    </tr>\n",
       "  </thead>\n",
       "  <tbody>\n",
       "    <tr>\n",
       "      <th>0</th>\n",
       "      <td>01/12/2020</td>\n",
       "      <td>Deportivo</td>\n",
       "      <td>2017</td>\n",
       "      <td>200000</td>\n",
       "      <td>Si</td>\n",
       "      <td>NaN</td>\n",
       "      <td>Si</td>\n",
       "      <td>Si</td>\n",
       "    </tr>\n",
       "    <tr>\n",
       "      <th>1</th>\n",
       "      <td>12/05/2020</td>\n",
       "      <td>Austero</td>\n",
       "      <td>2016</td>\n",
       "      <td>100000</td>\n",
       "      <td>Si</td>\n",
       "      <td>NaN</td>\n",
       "      <td>Si</td>\n",
       "      <td>Si</td>\n",
       "    </tr>\n",
       "    <tr>\n",
       "      <th>2</th>\n",
       "      <td>11/01/2020</td>\n",
       "      <td>compacto</td>\n",
       "      <td>2017</td>\n",
       "      <td>150000</td>\n",
       "      <td>Si</td>\n",
       "      <td>NaN</td>\n",
       "      <td>Si</td>\n",
       "      <td>Si</td>\n",
       "    </tr>\n",
       "    <tr>\n",
       "      <th>3</th>\n",
       "      <td>21/12/2020</td>\n",
       "      <td>Subcompacto</td>\n",
       "      <td>2017</td>\n",
       "      <td>70000</td>\n",
       "      <td>Si</td>\n",
       "      <td>NaN</td>\n",
       "      <td>Si</td>\n",
       "      <td>Si</td>\n",
       "    </tr>\n",
       "    <tr>\n",
       "      <th>4</th>\n",
       "      <td>30/05/2020</td>\n",
       "      <td>Subcompacto</td>\n",
       "      <td>2019</td>\n",
       "      <td>90000</td>\n",
       "      <td>Si</td>\n",
       "      <td>NaN</td>\n",
       "      <td>Si</td>\n",
       "      <td>Si</td>\n",
       "    </tr>\n",
       "    <tr>\n",
       "      <th>...</th>\n",
       "      <td>...</td>\n",
       "      <td>...</td>\n",
       "      <td>...</td>\n",
       "      <td>...</td>\n",
       "      <td>...</td>\n",
       "      <td>...</td>\n",
       "      <td>...</td>\n",
       "      <td>...</td>\n",
       "    </tr>\n",
       "    <tr>\n",
       "      <th>27116</th>\n",
       "      <td>08/07/2020</td>\n",
       "      <td>Subcompacto</td>\n",
       "      <td>2017</td>\n",
       "      <td>10840</td>\n",
       "      <td>Si</td>\n",
       "      <td>2400.0</td>\n",
       "      <td>No</td>\n",
       "      <td>No</td>\n",
       "    </tr>\n",
       "    <tr>\n",
       "      <th>27117</th>\n",
       "      <td>23/12/2020</td>\n",
       "      <td>De Lujo</td>\n",
       "      <td>2016</td>\n",
       "      <td>42280</td>\n",
       "      <td>Si</td>\n",
       "      <td>5600.0</td>\n",
       "      <td>No</td>\n",
       "      <td>No</td>\n",
       "    </tr>\n",
       "    <tr>\n",
       "      <th>27118</th>\n",
       "      <td>10/08/2020</td>\n",
       "      <td>Subcompacto</td>\n",
       "      <td>2016</td>\n",
       "      <td>15700</td>\n",
       "      <td>Si</td>\n",
       "      <td>2600.0</td>\n",
       "      <td>No</td>\n",
       "      <td>No</td>\n",
       "    </tr>\n",
       "    <tr>\n",
       "      <th>27119</th>\n",
       "      <td>02/10/2020</td>\n",
       "      <td>Austero</td>\n",
       "      <td>2016</td>\n",
       "      <td>8730</td>\n",
       "      <td>Si</td>\n",
       "      <td>1800.0</td>\n",
       "      <td>No</td>\n",
       "      <td>No</td>\n",
       "    </tr>\n",
       "    <tr>\n",
       "      <th>27120</th>\n",
       "      <td>16/07/2020</td>\n",
       "      <td>Subcompacto</td>\n",
       "      <td>2017</td>\n",
       "      <td>16380</td>\n",
       "      <td>Si</td>\n",
       "      <td>2400.0</td>\n",
       "      <td>No</td>\n",
       "      <td>No</td>\n",
       "    </tr>\n",
       "  </tbody>\n",
       "</table>\n",
       "<p>27121 rows × 8 columns</p>\n",
       "</div>"
      ],
      "text/plain": [
       "      Fecha del Siniestro Tipo de auto  Modelo  Monto del siniestro  \\\n",
       "0              01/12/2020    Deportivo    2017               200000   \n",
       "1              12/05/2020      Austero    2016               100000   \n",
       "2              11/01/2020     compacto    2017               150000   \n",
       "3              21/12/2020  Subcompacto    2017                70000   \n",
       "4              30/05/2020  Subcompacto    2019                90000   \n",
       "...                   ...          ...     ...                  ...   \n",
       "27116          08/07/2020  Subcompacto    2017                10840   \n",
       "27117          23/12/2020      De Lujo    2016                42280   \n",
       "27118          10/08/2020  Subcompacto    2016                15700   \n",
       "27119          02/10/2020      Austero    2016                 8730   \n",
       "27120          16/07/2020  Subcompacto    2017                16380   \n",
       "\n",
       "      Aplica cobertura  Deducible Reclamo de Cobertura Perdida total  \n",
       "0                   Si        NaN                   Si            Si  \n",
       "1                   Si        NaN                   Si            Si  \n",
       "2                   Si        NaN                   Si            Si  \n",
       "3                   Si        NaN                   Si            Si  \n",
       "4                   Si        NaN                   Si            Si  \n",
       "...                ...        ...                  ...           ...  \n",
       "27116               Si     2400.0                   No            No  \n",
       "27117               Si     5600.0                   No            No  \n",
       "27118               Si     2600.0                   No            No  \n",
       "27119               Si     1800.0                   No            No  \n",
       "27120               Si     2400.0                   No            No  \n",
       "\n",
       "[27121 rows x 8 columns]"
      ]
     },
     "execution_count": 7,
     "metadata": {},
     "output_type": "execute_result"
    }
   ],
   "source": [
    "df = pd.read_csv('Datos_aseguradora.csv')\n",
    "df"
   ]
  },
  {
   "cell_type": "code",
   "execution_count": 29,
   "metadata": {},
   "outputs": [
    {
     "data": {
      "text/html": [
       "<div>\n",
       "<style scoped>\n",
       "    .dataframe tbody tr th:only-of-type {\n",
       "        vertical-align: middle;\n",
       "    }\n",
       "\n",
       "    .dataframe tbody tr th {\n",
       "        vertical-align: top;\n",
       "    }\n",
       "\n",
       "    .dataframe thead th {\n",
       "        text-align: right;\n",
       "    }\n",
       "</style>\n",
       "<table border=\"1\" class=\"dataframe\">\n",
       "  <thead>\n",
       "    <tr style=\"text-align: right;\">\n",
       "      <th></th>\n",
       "      <th>Modelo</th>\n",
       "      <th>Monto del siniestro</th>\n",
       "      <th>Deducible</th>\n",
       "    </tr>\n",
       "  </thead>\n",
       "  <tbody>\n",
       "    <tr>\n",
       "      <th>count</th>\n",
       "      <td>82.000000</td>\n",
       "      <td>82.000000</td>\n",
       "      <td>80.000000</td>\n",
       "    </tr>\n",
       "    <tr>\n",
       "      <th>mean</th>\n",
       "      <td>2016.963415</td>\n",
       "      <td>39334.512195</td>\n",
       "      <td>4293.750000</td>\n",
       "    </tr>\n",
       "    <tr>\n",
       "      <th>std</th>\n",
       "      <td>0.727674</td>\n",
       "      <td>42126.862054</td>\n",
       "      <td>2687.728501</td>\n",
       "    </tr>\n",
       "    <tr>\n",
       "      <th>min</th>\n",
       "      <td>2014.000000</td>\n",
       "      <td>0.000000</td>\n",
       "      <td>1100.000000</td>\n",
       "    </tr>\n",
       "    <tr>\n",
       "      <th>25%</th>\n",
       "      <td>2017.000000</td>\n",
       "      <td>9450.000000</td>\n",
       "      <td>1900.000000</td>\n",
       "    </tr>\n",
       "    <tr>\n",
       "      <th>50%</th>\n",
       "      <td>2017.000000</td>\n",
       "      <td>23005.000000</td>\n",
       "      <td>3300.000000</td>\n",
       "    </tr>\n",
       "    <tr>\n",
       "      <th>75%</th>\n",
       "      <td>2017.000000</td>\n",
       "      <td>61667.500000</td>\n",
       "      <td>6725.000000</td>\n",
       "    </tr>\n",
       "    <tr>\n",
       "      <th>max</th>\n",
       "      <td>2018.000000</td>\n",
       "      <td>200000.000000</td>\n",
       "      <td>10000.000000</td>\n",
       "    </tr>\n",
       "  </tbody>\n",
       "</table>\n",
       "</div>"
      ],
      "text/plain": [
       "            Modelo  Monto del siniestro     Deducible\n",
       "count    82.000000            82.000000     80.000000\n",
       "mean   2016.963415         39334.512195   4293.750000\n",
       "std       0.727674         42126.862054   2687.728501\n",
       "min    2014.000000             0.000000   1100.000000\n",
       "25%    2017.000000          9450.000000   1900.000000\n",
       "50%    2017.000000         23005.000000   3300.000000\n",
       "75%    2017.000000         61667.500000   6725.000000\n",
       "max    2018.000000        200000.000000  10000.000000"
      ]
     },
     "execution_count": 29,
     "metadata": {},
     "output_type": "execute_result"
    }
   ],
   "source": [
    "primerDia = df[df['Fecha del Siniestro'] == '01/12/2020']\n",
    "primerDia.describe()"
   ]
  },
  {
   "cell_type": "code",
   "execution_count": 26,
   "metadata": {},
   "outputs": [
    {
     "data": {
      "text/plain": [
       "count    1278.000000\n",
       "mean     -779.718310\n",
       "std       486.969034\n",
       "min     -1990.000000\n",
       "25%     -1150.000000\n",
       "50%      -760.000000\n",
       "75%      -362.500000\n",
       "max       -10.000000\n",
       "Name: Monto del siniestro, dtype: float64"
      ]
     },
     "execution_count": 26,
     "metadata": {},
     "output_type": "execute_result"
    }
   ],
   "source": [
    "cobertura = df[df['Aplica cobertura'] == 'Si']\n",
    "cobertura = cobertura[cobertura['Reclamo de Cobertura'] == 'Si']\n",
    "cobertura['Monto del siniestro'] = cobertura['Monto del siniestro'] - cobertura['Deducible']\n",
    "cobertura['Monto del siniestro'].describe()"
   ]
  },
  {
   "cell_type": "code",
   "execution_count": 13,
   "metadata": {},
   "outputs": [
    {
     "data": {
      "text/plain": [
       "count     27121.000000\n",
       "mean      30771.375687\n",
       "std       31231.464425\n",
       "min           0.000000\n",
       "25%        8680.000000\n",
       "50%       21280.000000\n",
       "75%       42600.000000\n",
       "max      341510.000000\n",
       "Name: Monto del siniestro, dtype: float64"
      ]
     },
     "execution_count": 13,
     "metadata": {},
     "output_type": "execute_result"
    }
   ],
   "source": [
    "df = df.sort_values(by=\"Fecha del Siniestro\")\n",
    "df['Monto del siniestro'].describe()"
   ]
  },
  {
   "cell_type": "code",
   "execution_count": 39,
   "metadata": {},
   "outputs": [
    {
     "data": {
      "text/plain": [
       "[<matplotlib.lines.Line2D at 0x27c0a42d2b0>]"
      ]
     },
     "execution_count": 39,
     "metadata": {},
     "output_type": "execute_result"
    },
    {
     "data": {
      "image/png": "[encoded data removed]",
      "text/plain": [
       "<Figure size 1080x720 with 1 Axes>"
      ]
     },
     "metadata": {
      "needs_background": "light"
     },
     "output_type": "display_data"
    }
   ],
   "source": [
    "plt.figure(figsize=(15,10))\n",
    "plt.plot(df['Fecha del Siniestro'], df['Monto del siniestro'])"
   ]
  },
  {
   "cell_type": "code",
   "execution_count": 32,
   "metadata": {},
   "outputs": [
    {
     "data": {
      "text/plain": [
       "2560.4409499358153"
      ]
     },
     "execution_count": 32,
     "metadata": {},
     "output_type": "execute_result"
    }
   ],
   "source": [
    "c = 1994583.5\n",
    "mu = c/779\n",
    "mu"
   ]
  },
  {
   "cell_type": "code",
   "execution_count": null,
   "metadata": {},
   "outputs": [],
   "source": [
    "lamda = 0\n",
    "mu = 0\n",
    "c =  1,994,583.5"
   ]
  },
  {
   "cell_type": "markdown",
   "metadata": {},
   "source": [
    "## Prueba Aleatoria de Tiempo"
   ]
  },
  {
   "cell_type": "code",
   "execution_count": 33,
   "metadata": {},
   "outputs": [],
   "source": [
    "fechas = []\n",
    "df['Fecha del Siniestro'] = pd.to_datetime(df['Fecha del Siniestro'])\n",
    "for i in df['Fecha del Siniestro']:\n",
    "    if i not in fechas:\n",
    "        fechas.append(i)\n"
   ]
  }
 ],
 "metadata": {
  "interpreter": {
   "hash": "63fd5069d213b44bf678585dea6b12cceca9941eaf7f819626cde1f2670de90d"
  },
  "kernelspec": {
   "display_name": "Python 3.9.2 64-bit",
   "name": "python3"
  },
  "language_info": {
   "codemirror_mode": {
    "name": "ipython",
    "version": 3
   },
   "file_extension": ".py",
   "mimetype": "text/x-python",
   "name": "python",
   "nbconvert_exporter": "python",
   "pygments_lexer": "ipython3",
   "version": "3.9.2"
  },
  "orig_nbformat": 4
 },
 "nbformat": 4,
 "nbformat_minor": 2
}
